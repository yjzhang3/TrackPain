{
 "cells": [
  {
   "cell_type": "markdown",
   "id": "d1db3a8f",
   "metadata": {},
   "source": [
    "# Data Processing\n",
    "\n",
    "_This notebook will take in a sample dataset compiled from the database, consisting of both biological sensor data and mobile app data called *sample.csv*_"
   ]
  },
  {
   "cell_type": "markdown",
   "id": "522f7f49",
   "metadata": {},
   "source": [
    "## Store variables into a list\n",
    "\n",
    "_in this section, we want to read each column of the sample dataset, which represents one variable_"
   ]
  },
  {
   "cell_type": "code",
   "execution_count": 74,
   "id": "041f6b41",
   "metadata": {},
   "outputs": [
    {
     "name": "stdout",
     "output_type": "stream",
     "text": [
      "[[0.9, 0.55, 0.28, 0.8, 0.92, 0.1], [34, 24, 44, 33, 36, 35], [1.4, 2.2, 2.0, 3.2, 1.1, 2.1], [80, 90, 20, 20, 33, 25], [4, 4, 4, 3, 2, 1], [4, 3, 3, 3, 2, 3]]\n"
     ]
    }
   ],
   "source": [
    "from pandas import *\n",
    "  \n",
    "# reading CSV file\n",
    "data = read_csv(\"sample.csv\")\n",
    "  \n",
    "# converting column data to list\n",
    "HR = data['Heartrate_variability'].tolist()\n",
    "RP = data['Respiration_rate'].tolist()\n",
    "SC = data['Skin_conductance'].tolist()\n",
    "AG = data['Actigraphy'].tolist()\n",
    "VB = data['Verbal'].tolist()\n",
    "SO = data['Social'].tolist()\n",
    "\n",
    "\n",
    "overall = [HR,RP,SC,AG,VB,SO]\n",
    "print(overall)"
   ]
  },
  {
   "cell_type": "markdown",
   "id": "bb4b3aa7",
   "metadata": {},
   "source": [
    "## Binarize the data\n",
    "_Using standard deviation to binarize the data. Those lie outside of the average plus or minus standard deviation will be treated as abnormal._"
   ]
  },
  {
   "cell_type": "code",
   "execution_count": 68,
   "id": "d6fcd311",
   "metadata": {},
   "outputs": [
    {
     "name": "stdout",
     "output_type": "stream",
     "text": [
      "[[0.5916666666666667, 0.3127521205186128], [34.333333333333336, 5.849976258261415], [2.0, 0.6658328118479394], [44.666666666666664, 28.992336152086047], [3.0, 1.1547005383792515], [3.0, 0.5773502691896257]]\n"
     ]
    }
   ],
   "source": [
    "def std_list(test_list):\n",
    "    mean = sum(test_list) / len(test_list)\n",
    "    variance = sum([((x - mean) ** 2) for x in test_list]) / len(test_list)\n",
    "    res = variance ** 0.5\n",
    "    return [mean,res]\n",
    "\n",
    "mean_std_overall = []\n",
    "for list in overall:\n",
    "    mean_std_overall.append(std_list(list))\n",
    "    \n",
    "print(mean_std_overall)"
   ]
  },
  {
   "cell_type": "code",
   "execution_count": 70,
   "id": "1286592d",
   "metadata": {},
   "outputs": [
    {
     "name": "stdout",
     "output_type": "stream",
     "text": [
      "[34, 24, 44, 33, 36, 35]\n",
      "[34.333333333333336, 5.849976258261415]\n",
      "[0, 1, 1, 0, 0, 0]\n"
     ]
    }
   ],
   "source": [
    "def binarize(test_list,stats_list):\n",
    "    bin_list = []\n",
    "    for i in range(len(test_list)):\n",
    "        if test_list[i] > stats_list[0]+stats_list[1] or test_list[i] < stats_list[0]-stats_list[1]:\n",
    "            bin_list.append(1) # False\n",
    "        else:\n",
    "            bin_list.append(0) # True\n",
    "    return bin_list\n",
    "\n",
    "print(overall[1])\n",
    "print(mean_std_overall[1])\n",
    "print(binarize(overall[1],mean_std_overall[1]))\n",
    "\n",
    "overall_bin = []\n",
    "for k in range(len(overall)):\n",
    "    overall_bin.append(binarize(overall[k],mean_std_overall[k]))"
   ]
  },
  {
   "cell_type": "code",
   "execution_count": 72,
   "id": "26c61801",
   "metadata": {},
   "outputs": [
    {
     "name": "stdout",
     "output_type": "stream",
     "text": [
      "[[0, 0, 0, 0, 1, 1], [0, 1, 1, 0, 0, 0], [0, 0, 0, 1, 1, 0], [1, 1, 0, 0, 0, 0], [0, 0, 0, 0, 0, 1], [1, 0, 0, 0, 1, 0]]\n"
     ]
    }
   ],
   "source": [
    "print(overall_bin)"
   ]
  },
  {
   "cell_type": "markdown",
   "id": "78ed9a8c",
   "metadata": {},
   "source": [
    "## Conditional Probability \n",
    "_Calculate conditional probability by simply counting frequencies. Take example of \"Verbal activity\" conditioned on \"heart rate variability\"_\n",
    "\n",
    "_Try \"Social behaviors\" conditioned on \"skin conductance\" and \"actigraphy\"_"
   ]
  },
  {
   "cell_type": "code",
   "execution_count": 98,
   "id": "f36f5534",
   "metadata": {},
   "outputs": [
    {
     "name": "stdout",
     "output_type": "stream",
     "text": [
      "Probability of having abnormal verbal activity given probability of having abnormal heart rate variability is 0.05555555555555555\n",
      "Probability of having abnormal social activity given probability of having normal actigraphy and abnormal skin conductance  0.07407407407407407\n"
     ]
    }
   ],
   "source": [
    "Verbal_HR = sum(overall_bin[4])/len(overall_bin[4])*sum(overall_bin[0])/len(overall_bin[0])\n",
    "# verbal is the 4th parameter, and heart rate is the first parameter\n",
    "print(\"Probability of having abnormal verbal activity given probability of having abnormal heart rate variability is\", Verbal_HR)\n",
    "\n",
    "Facial_SC_AG = sum(overall_bin[5])/len(overall_bin[5])*(len(overall_bin[3])-sum(overall_bin[3]))/len(overall_bin[3])*sum(overall_bin[2])/len(overall_bin[2])\n",
    "print(\"Probability of having abnormal social activity given probability of having normal actigraphy and abnormal skin conductance \", Facial_SC_AG)"
   ]
  },
  {
   "cell_type": "code",
   "execution_count": null,
   "id": "166b66a4",
   "metadata": {},
   "outputs": [],
   "source": []
  }
 ],
 "metadata": {
  "kernelspec": {
   "display_name": "Python 3",
   "language": "python",
   "name": "python3"
  },
  "language_info": {
   "codemirror_mode": {
    "name": "ipython",
    "version": 3
   },
   "file_extension": ".py",
   "mimetype": "text/x-python",
   "name": "python",
   "nbconvert_exporter": "python",
   "pygments_lexer": "ipython3",
   "version": "3.8.8"
  }
 },
 "nbformat": 4,
 "nbformat_minor": 5
}
