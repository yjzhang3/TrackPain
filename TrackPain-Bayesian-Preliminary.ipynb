{
 "cells": [
  {
   "cell_type": "markdown",
   "id": "7cd5c239",
   "metadata": {},
   "source": [
    "# A discrete Bayesian model for pain level prediction\n",
    "\n",
    "## Introduction\n",
    "\n",
    "_motivations and assumptions for using the model_\n",
    "\n",
    "### _why Bayesian network_\n",
    "Compared to linear regression and artificial neural network, Bayesian network uses statistical inference to make prediction, which can overcome the difficulty of missing parameters. \n",
    "\n",
    "### _relevance to our solution_\n",
    "There are two steps in this algorithm: \n",
    "\n",
    "(1) create the Bayesian network by collecting pain questionnaire answers and sensor data from *communicative* patients;\n",
    "\n",
    "(2) use the network to infer the level of pains given the biological data, for *non-communicative patients*\n",
    "\n",
    "Because non-communicative children might not demonstrate behaviors that can be well observed or are not able to self report their pain levels, some parameters are missing. Bayesian network can come in handy.\n",
    "\n",
    "### _variable choice_\n",
    "- To show a proof of concept, each variable in this model will be discrete and binary. \n",
    "- \"True\" means \"parameter measured falls in normal range\"\n",
    "- \"False\" means \"parameter measured falls in abnormal range\"\n",
    "\n",
    "### _where do we get the probability?_\n",
    "Probability values used in this example are artificially generated. But we will show how to calculate these probabilities from collected data.\n",
    "\n",
    "### _future consideration_\n",
    "- We plan to assign more categories to each variable. By having multiple categories for each variable (for example, social behaviors can be specified as five types: unhappy, withdrawn, seeking closeness, hard to pacify), the model can make more subtle predictions"
   ]
  },
  {
   "cell_type": "code",
   "execution_count": 19,
   "id": "dae6c259",
   "metadata": {},
   "outputs": [
    {
     "name": "stdout",
     "output_type": "stream",
     "text": [
      "Populating the interactive namespace from numpy and matplotlib\n"
     ]
    }
   ],
   "source": [
    "%pylab inline\n",
    "from pomegranate import *"
   ]
  },
  {
   "cell_type": "markdown",
   "id": "07d3f75b",
   "metadata": {},
   "source": [
    "## Initialize the root nodes\n",
    "\n",
    "### _background_\n",
    "- Root nodes are variables for which we don't care about their probabilities conditioned on anything else. We want to know, given these data from the beginning, what is the final prediction\n",
    "\n",
    "- In other words, these should be data from the sensor because they can be simply measured and objectively obtained, and we want to infer about the pain level using just these sensor data. \n",
    "\n",
    "- For, root nodes of the causal graph, each has a 50/50 chance of being TRUE (normal) or FALSE (false). \n",
    "\n",
    "### _what are root nodes in our case?_\n",
    "- The solution in our device will measure heart rate variability, respiration rate, actigraphy, and skin conductance\n",
    "- To make each variable binary, we used a unique numerical range to binarize collected data. That is, data points lie inside of the range are considered normal, and those outside considered abnormal"
   ]
  },
  {
   "cell_type": "code",
   "execution_count": 23,
   "id": "a594bccd",
   "metadata": {},
   "outputs": [],
   "source": [
    "HeartRate_var = DiscreteDistribution( { 'True' : 0.5, 'False' : 0.5 } )\n",
    "\n",
    "RespRate = DiscreteDistribution( { 'True' : 0.5, 'False' : 0.5 } )\n",
    "\n",
    "SkinCond = DiscreteDistribution( { 'True' : 0.5, 'False' : 0.5 } )\n",
    "\n",
    "Actigraphy = DiscreteDistribution( { 'True' : 0.5, 'False' : 0.5 } )\n"
   ]
  },
  {
   "cell_type": "markdown",
   "id": "c323856c",
   "metadata": {},
   "source": [
    "## Conditional dependence (single dependence)\n",
    "\n",
    "\n",
    "### _background_\n",
    "- in a causal network, non-root nodes have conditional probability, meaning the probability of them happening is with respect to (conditioned on) their parent nodes \n",
    "- some events depend on only one parent node (single dependence)\n",
    "- more strictly speaking, we put them as non-root because we want to know how these factors play into the final prediction.\n",
    "\n",
    "### _in our case_\n",
    "- here we model parameters that can be collected by the phone app as non-root nodes\n",
    "- recall that our phone allows the third-party to put in their observations of the patients, which includes the 4 parameters: sleeping patterns, eating patterns, social behaviors, and verbal activity.\n",
    "- All 4 parameters here each can depends on some or all 4 types of sensor data (root nodes in the last section), ideally there will be 4*3 =12 total edges in the graph at max. \n",
    "- Here we only show some examples of singular depedence (meaning the node only is conditioned on only one event)\n"
   ]
  },
  {
   "cell_type": "code",
   "execution_count": 24,
   "id": "91316232",
   "metadata": {},
   "outputs": [],
   "source": [
    "\n",
    "# P (sleeping = normal or abnormal | heart rate variability = normal or abnormal)\n",
    "sleeping_HR = ConditionalProbabilityTable(\n",
    "    [[ 'True', 'True', 0.2 ], \n",
    "     # given heart rate var is normal, the probability of sleeping is normal\n",
    "     [ 'True', 'False', 0.8 ],\n",
    "     # given .... normal, the prob ... abnormal\n",
    "     [ 'False', 'True', 0.01 ],\n",
    "     [ 'False', 'False', 0.99 ]], [HeartRate_var])\n",
    "\n",
    "# P (social behaviors = normal or abnormal | respiration rate)\n",
    "social_RP = ConditionalProbabilityTable(\n",
    "    [[ 'True', 'True', 0.2 ], \n",
    "     [ 'True', 'False', 0.8 ],\n",
    "     [ 'False', 'True', 0.44 ],\n",
    "     [ 'False', 'False', 0.56 ]], [RespRate])\n",
    "\n"
   ]
  },
  {
   "cell_type": "markdown",
   "id": "017ea964",
   "metadata": {},
   "source": [
    "## More conditional dependence \n",
    "\n",
    "### _background_\n",
    "- Sometimes the probability of an event happening can conditionally depend on more than one event. Here we look at parameters that depend on more than one other parameters. \n",
    "- The parameters that are collected in the same phase might also depend on each other\n",
    "\n",
    "### _what are some examples of multiple dependence in our model?_\n",
    "- eating behaviors depend on both heart rate and skin conductance\n",
    "- verbal activities depend on respiration rate and  and heart rate\n",
    "- facial scales depend on verbal activity and actigraphy\n",
    "- emotional scales depend on eating, sleeping, and actigraphy\n"
   ]
  },
  {
   "cell_type": "code",
   "execution_count": 33,
   "id": "9ab061d5",
   "metadata": {},
   "outputs": [],
   "source": [
    "# P (eating | respiration rate, skin conductance)\n",
    "eating_RP_SC =  ConditionalProbabilityTable(\n",
    "    [[ 'True', 'True', 'True', 0.96 ],\n",
    "     [ 'True', 'True', 'False', 0.04 ],\n",
    "     [ 'True', 'False', 'True', 0.89 ],\n",
    "     [ 'True', 'False', 'False', 0.11 ],\n",
    "     [ 'False', 'True', 'True', 0.96 ],\n",
    "     [ 'False', 'True', 'False', 0.04 ],\n",
    "     [ 'False', 'False', 'True', 0.89 ],\n",
    "     [ 'False', 'False', 'False', 0.11 ]], [RespRate, SkinCond])\n",
    "\n",
    "verbal_HR_RP =  ConditionalProbabilityTable(\n",
    "    [[ 'True', 'True', 'True', 0.96 ],\n",
    "     [ 'True', 'True', 'False', 0.04 ],\n",
    "     [ 'True', 'False', 'True', 0.89 ],\n",
    "     [ 'True', 'False', 'False', 0.11 ],\n",
    "     [ 'False', 'True', 'True', 0.96 ],\n",
    "     [ 'False', 'True', 'False', 0.04 ],\n",
    "     [ 'False', 'False', 'True', 0.89 ],\n",
    "     [ 'False', 'False', 'False', 0.11 ]], [HeartRate_var, RespRate])\n",
    "\n",
    "facial_verbal_SC =  ConditionalProbabilityTable(\n",
    "    [[ 'True', 'True', 'True', 0.46 ],\n",
    "     [ 'True', 'True', 'False', 0.54 ],\n",
    "     [ 'True', 'False', 'True', 0.39 ],\n",
    "     [ 'True', 'False', 'False', 0.61 ],\n",
    "     [ 'False', 'True', 'True', 0.96 ],\n",
    "     [ 'False', 'True', 'False', 0.04 ],\n",
    "     [ 'False', 'False', 'True', 0.03 ],\n",
    "     [ 'False', 'False', 'False', 0.97 ]], [verbal_HR_RP, Actigraphy])\n",
    "\n",
    "emotional_eat_sleep_ag =  ConditionalProbabilityTable(\n",
    "    [[ 'True', 'True', 'True','True', 0.44 ],\n",
    "     [ 'True', 'True', 'True','False', 0.56 ],\n",
    "     [ 'True', 'True', 'False','True', 0.90 ],\n",
    "     [ 'True', 'True', 'False','False', 0.10 ],\n",
    "     [ 'True', 'False', 'True','True', 0.38],\n",
    "     [ 'True', 'False', 'True','False', 0.62 ],\n",
    "     [ 'True', 'False', 'False','True', 0.29 ],\n",
    "     [ 'True', 'False', 'False','False', 0.71 ],\n",
    "     [ 'False', 'True', 'True','True', 0.96 ],\n",
    "     [ 'False', 'True', 'True','False', 0.04 ],\n",
    "     [ 'False', 'True', 'False','True', 0.52 ],\n",
    "     [ 'False', 'True', 'False','False', 0.48 ],\n",
    "     [ 'False', 'False', 'True','True', 0.77 ],\n",
    "     [ 'False', 'False', 'True','False', 0.23 ],\n",
    "     [ 'False', 'False', 'False','True', 0.19 ],\n",
    "     [ 'False', 'False', 'False','False', 0.81 ]],[eating_RP_SC, sleeping_HR, Actigraphy])\n",
    "\n"
   ]
  },
  {
   "cell_type": "markdown",
   "id": "08e51e42",
   "metadata": {},
   "source": [
    "## Last layer (leaf nodes)\n",
    "\n",
    "Now we construct the leaf nodes which are the end of this network. Since we would like to know the probability of pain or not pain given all parameters provided above, we will set pain level as the child of facial and emotional scale and verbal activity"
   ]
  },
  {
   "cell_type": "code",
   "execution_count": 34,
   "id": "c574b042",
   "metadata": {},
   "outputs": [],
   "source": [
    "pain_facial_emo_verbal = ConditionalProbabilityTable(\n",
    "    [[ 'True', 'True', 'True','True', 0.44 ],\n",
    "     [ 'True', 'True', 'True','False', 0.56 ],\n",
    "     [ 'True', 'True', 'False','True', 0.90 ],\n",
    "     [ 'True', 'True', 'False','False', 0.10 ],\n",
    "     [ 'True', 'False', 'True','True', 0.88],\n",
    "     [ 'True', 'False', 'True','False', 0.12 ],\n",
    "     [ 'True', 'False', 'False','True', 0.29 ],\n",
    "     [ 'True', 'False', 'False','False', 0.71 ],\n",
    "     [ 'False', 'True', 'True','True', 0.76 ],\n",
    "     [ 'False', 'True', 'True','False', 0.24 ],\n",
    "     [ 'False', 'True', 'False','True', 0.52 ],\n",
    "     [ 'False', 'True', 'False','False', 0.48 ],\n",
    "     [ 'False', 'False', 'True','True', 0.77 ],\n",
    "     [ 'False', 'False', 'True','False', 0.23 ],\n",
    "     [ 'False', 'False', 'False','True', 0.19 ],\n",
    "     [ 'False', 'False', 'False','False', 0.81 ]],[emotional_eat_sleep_ag, facial_verbal_SC, verbal_HR_RP])\n",
    "\n"
   ]
  },
  {
   "cell_type": "markdown",
   "id": "61c3432f",
   "metadata": {},
   "source": [
    "## Create and plot the network\n",
    "After we defined all events and their conditional probabilities, we can construct and plot our network!!\n"
   ]
  },
  {
   "cell_type": "code",
   "execution_count": 46,
   "id": "9ad7e0f1",
   "metadata": {},
   "outputs": [],
   "source": [
    "s0 = State( HeartRate_var, name=\"Heart Rate Variability\" )\n",
    "s1 = State( RespRate, name=\"Respiration Rate\" )\n",
    "s2 = State( SkinCond, name=\"Skin Conductance\" )\n",
    "s3 = State( Actigraphy, name=\"Actigraphy\" )\n",
    "s4 = State( sleeping_HR, name=\"Sleeping Behaviors\" )\n",
    "s5 = State( social_RP, name=\"Social Behaviors\" )\n",
    "s6 = State( eating_RP_SC, name=\"Eating Behaviors\")\n",
    "s7 = State( verbal_HR_RP, name=\"Verbal Activities\" )\n",
    "s8 = State( facial_verbal_SC, name='Facial Scale' )\n",
    "s9 = State( emotional_eat_sleep_ag,name=\"Emotional Scale\")\n",
    "s10 = State( pain_facial_emo_verbal,name=\"Pain Level\")\n"
   ]
  },
  {
   "cell_type": "code",
   "execution_count": 36,
   "id": "368b2ee6",
   "metadata": {},
   "outputs": [],
   "source": [
    "network = BayesianNetwork( \"Pain-Track\" )\n",
    "network.add_nodes(s0, s1, s2, s3, s4, s5, s6, s7,s8,s9,s10)"
   ]
  },
  {
   "cell_type": "code",
   "execution_count": 39,
   "id": "b1b016b5",
   "metadata": {},
   "outputs": [
    {
     "data": {
      "image/png": "[encoded data removed]",
      "text/plain": [
       "<Figure size 432x288 with 1 Axes>"
      ]
     },
     "metadata": {
      "needs_background": "light"
     },
     "output_type": "display_data"
    }
   ],
   "source": [
    "network.add_edge( s0, s4 )\n",
    "network.add_edge( s1, s5 )\n",
    "network.add_edge( s1, s6 )\n",
    "network.add_edge( s2, s6 )\n",
    "network.add_edge( s0, s7 )\n",
    "network.add_edge( s1, s7 )\n",
    "network.add_edge( s2, s8 )\n",
    "network.add_edge( s7, s8 )\n",
    "network.add_edge( s4, s9 )\n",
    "network.add_edge( s6, s9 )\n",
    "network.add_edge( s3, s9 )\n",
    "network.add_edge( s8, s10 )\n",
    "network.add_edge( s9, s10 )\n",
    "network.add_edge( s7, s10)\n",
    "\n",
    "try:\n",
    "    import tempfile\n",
    "    import pygraphviz\n",
    "    import matplotlib.pyplot as plt\n",
    "    import matplotlib.image\n",
    "except ImportError:\n",
    "    pygraphviz = None\n",
    "    \n",
    "network.bake()\n",
    "network.plot()"
   ]
  },
  {
   "cell_type": "markdown",
   "id": "b16a50f1",
   "metadata": {},
   "source": [
    "## Make Inference using our constructed model!\n",
    "Now given the network constructed above, let's test if a person who has normal skin conductance, normal facial scale, and abnormal sleeping behaviors is likely to experience pain\n"
   ]
  },
  {
   "cell_type": "code",
   "execution_count": 59,
   "id": "6583adce",
   "metadata": {},
   "outputs": [
    {
     "ename": "ValueError",
     "evalue": "None is not in list",
     "output_type": "error",
     "traceback": [
      "\u001b[0;31m---------------------------------------------------------------------------\u001b[0m",
      "\u001b[0;31mValueError\u001b[0m                                Traceback (most recent call last)",
      "\u001b[0;32m<ipython-input-59-fff41d39ff45>\u001b[0m in \u001b[0;36m<module>\u001b[0;34m\u001b[0m\n\u001b[1;32m      1\u001b[0m \u001b[0mobservations\u001b[0m \u001b[0;34m=\u001b[0m \u001b[0;34m{\u001b[0m \u001b[0;34m'verbal_HR_RP'\u001b[0m \u001b[0;34m:\u001b[0m \u001b[0;34m'False'\u001b[0m\u001b[0;34m,\u001b[0m \u001b[0;34m'facial_verbal_SC'\u001b[0m \u001b[0;34m:\u001b[0m \u001b[0;34m'True'\u001b[0m\u001b[0;34m,\u001b[0m \u001b[0;34m'HeartRate_var'\u001b[0m \u001b[0;34m:\u001b[0m \u001b[0;34m'True'\u001b[0m \u001b[0;34m}\u001b[0m\u001b[0;34m\u001b[0m\u001b[0;34m\u001b[0m\u001b[0m\n\u001b[0;32m----> 2\u001b[0;31m \u001b[0mnetwork\u001b[0m\u001b[0;34m.\u001b[0m\u001b[0mpredict_proba\u001b[0m\u001b[0;34m(\u001b[0m\u001b[0mobservations\u001b[0m\u001b[0;34m)\u001b[0m\u001b[0;34m\u001b[0m\u001b[0;34m\u001b[0m\u001b[0m\n\u001b[0m\u001b[1;32m      3\u001b[0m \u001b[0;31m#beliefs = map( str, network.predict_proba( observations ) )\u001b[0m\u001b[0;34m\u001b[0m\u001b[0;34m\u001b[0m\u001b[0;34m\u001b[0m\u001b[0m\n\u001b[1;32m      4\u001b[0m \u001b[0;31m#print(\"\\n\".join( \"{}\\t\\t{}\".format( state.name, belief ) for state, belief in zip( network.states, beliefs ) ))\u001b[0m\u001b[0;34m\u001b[0m\u001b[0;34m\u001b[0m\u001b[0;34m\u001b[0m\u001b[0m\n",
      "\u001b[0;32m~/opt/anaconda3/lib/python3.8/site-packages/pomegranate/BayesianNetwork.pyx\u001b[0m in \u001b[0;36mpomegranate.BayesianNetwork.BayesianNetwork.predict_proba\u001b[0;34m()\u001b[0m\n",
      "\u001b[0;32m~/opt/anaconda3/lib/python3.8/site-packages/pomegranate/FactorGraph.pyx\u001b[0m in \u001b[0;36mpomegranate.FactorGraph.FactorGraph.predict_proba\u001b[0;34m()\u001b[0m\n",
      "\u001b[0;32m~/opt/anaconda3/lib/python3.8/site-packages/pomegranate/distributions/JointProbabilityTable.pyx\u001b[0m in \u001b[0;36mpomegranate.distributions.JointProbabilityTable.JointProbabilityTable.marginal\u001b[0;34m()\u001b[0m\n",
      "\u001b[0;31mValueError\u001b[0m: None is not in list"
     ]
    }
   ],
   "source": [
    "observations = { 'verbal_HR_RP' : 'False', 'facial_verbal_SC' : 'True', 'HeartRate_var' : 'True' }\n",
    "network.predict_proba(observations)\n",
    "#beliefs = map( str, network.predict_proba( observations ) )\n",
    "#print(\"\\n\".join( \"{}\\t\\t{}\".format( state.name, belief ) for state, belief in zip( network.states, beliefs ) ))"
   ]
  },
  {
   "cell_type": "code",
   "execution_count": null,
   "id": "f99741d3",
   "metadata": {},
   "outputs": [],
   "source": []
  }
 ],
 "metadata": {
  "kernelspec": {
   "display_name": "Python 3",
   "language": "python",
   "name": "python3"
  },
  "language_info": {
   "codemirror_mode": {
    "name": "ipython",
    "version": 3
   },
   "file_extension": ".py",
   "mimetype": "text/x-python",
   "name": "python",
   "nbconvert_exporter": "python",
   "pygments_lexer": "ipython3",
   "version": "3.8.8"
  }
 },
 "nbformat": 4,
 "nbformat_minor": 5
}
